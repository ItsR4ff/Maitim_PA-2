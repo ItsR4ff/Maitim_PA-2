{
 "cells": [
  {
   "cell_type": "markdown",
   "id": "472caafc-d6a2-498b-8396-22c3b0f49ed4",
   "metadata": {},
   "source": [
    "# Programming Assignment No. 2 :  Numerical Python  ###"
   ]
  },
  {
   "cell_type": "markdown",
   "id": "630e2217-abc4-477c-8b18-c9f7ea66d2f7",
   "metadata": {},
   "source": [
    "---"
   ]
  },
  {
   "cell_type": "markdown",
   "id": "aa5139d4-91b5-4221-9c08-49f214ae652c",
   "metadata": {},
   "source": [
    "This repository includes the solution to different programming problems involving the Numpy or the Numerical Python Library. The assignment includes the making of \"Normalization\" and \"Divisible by 3\"."
   ]
  },
  {
   "cell_type": "markdown",
   "id": "d543db2f-eb27-4d9e-9126-242ef4b8dc27",
   "metadata": {},
   "source": [
    "## Number 1 : Normalization problem ###\n",
    "Normalization is one of the most basic preprocessing techniques in\r\n",
    "data analytics. This involves centering and scaling proces.\n",
    "\n",
    "In this code, we will print a 5x5 array with random values and its normalized versions"
   ]
  },
  {
   "cell_type": "code",
   "execution_count": 47,
   "id": "78f283d7-d026-4d24-bd04-526b519da21e",
   "metadata": {},
   "outputs": [
    {
     "name": "stdout",
     "output_type": "stream",
     "text": [
      "Your original values are: \n",
      " [[0.43614089 0.42199299 0.18745598 0.83643213 0.31372984]\n",
      " [0.01226685 0.24249692 0.03999078 0.82628442 0.02496891]\n",
      " [0.42870266 0.72847798 0.68446487 0.71092214 0.77260273]\n",
      " [0.71811088 0.44490057 0.81807432 0.75203574 0.6451391 ]\n",
      " [0.29750212 0.8596331  0.81914881 0.95882535 0.65712148]]\n",
      "The normalized value are: \n",
      " [[-0.38607405 -0.43602229 -1.26403976  1.0271278  -0.81823822]\n",
      " [-1.88253345 -1.06972134 -1.78465595  0.991302   -1.83768967]\n",
      " [-0.41233426  0.64600279  0.49061741  0.58402307  0.80178232]\n",
      " [ 0.60940242 -0.35514861  0.96231676  0.7291719   0.35178037]\n",
      " [-0.87552911  1.10903729  0.9661102   1.45922903  0.39408335]]\n"
     ]
    }
   ],
   "source": [
    "#imports the library of numpy to access\n",
    "import numpy as np\n",
    "# Inputs random numbers in a 5x5 array\n",
    "X = np.random.rand(5,5) \n",
    "\n",
    "# uses the mean formula to find the mean of the array\n",
    "Xmean = np.mean(X) \n",
    "#calculates for the std of the array\n",
    "Xstd = np.std(X) \n",
    "#formula for the normalized array\n",
    "X_normalized = (X-Xmean)/Xstd \n",
    "\n",
    "#Prints the original values of the 5x5 array\n",
    "print(\"Your original values are: \\n\", X) \n",
    "\n",
    "#prints the normalized value\n",
    "print(\"The normalized value are: \\n\", X_normalized) \n",
    "\n",
    "#saves the array in the format of X_normalized.npy\n",
    "np.save(\"X_normalized.npy\", X_normalized) \n"
   ]
  },
  {
   "cell_type": "markdown",
   "id": "5197abdc-d962-4e42-a4ed-7f9be626d265",
   "metadata": {},
   "source": [
    "---"
   ]
  },
  {
   "cell_type": "markdown",
   "id": "b39423bb-73d5-4a77-8e84-e19bfca2a5ef",
   "metadata": {},
   "source": [
    "## Number 2 : Division by 3 ###\n",
    "In this code, it will generate a 10x10 positive integers that are squared. it will then find the elements that are divisible by 3 and will print the numbers that satisfty the condition also."
   ]
  },
  {
   "cell_type": "code",
   "execution_count": 49,
   "id": "e80a4e10-ad62-444d-aec8-396bdd8c9216",
   "metadata": {
    "scrolled": true
   },
   "outputs": [
    {
     "name": "stdout",
     "output_type": "stream",
     "text": [
      "The square of the numbers 1-100 are : \n",
      " [[    1     4     9    16    25    36    49    64    81   100]\n",
      " [  121   144   169   196   225   256   289   324   361   400]\n",
      " [  441   484   529   576   625   676   729   784   841   900]\n",
      " [  961  1024  1089  1156  1225  1296  1369  1444  1521  1600]\n",
      " [ 1681  1764  1849  1936  2025  2116  2209  2304  2401  2500]\n",
      " [ 2601  2704  2809  2916  3025  3136  3249  3364  3481  3600]\n",
      " [ 3721  3844  3969  4096  4225  4356  4489  4624  4761  4900]\n",
      " [ 5041  5184  5329  5476  5625  5776  5929  6084  6241  6400]\n",
      " [ 6561  6724  6889  7056  7225  7396  7569  7744  7921  8100]\n",
      " [ 8281  8464  8649  8836  9025  9216  9409  9604  9801 10000]]\n",
      "The numbers in the array that are divisble by 3 are :\n",
      " [   9   36   81  144  225  324  441  576  729  900 1089 1296 1521 1764\n",
      " 2025 2304 2601 2916 3249 3600 3969 4356 4761 5184 5625 6084 6561 7056\n",
      " 7569 8100 8649 9216 9801]\n"
     ]
    }
   ],
   "source": [
    "#imports the library of numpy to access\n",
    "import numpy as np \n",
    "#The .arange() function will create a 1x1 array ranging from 1 to 100 in a single row\n",
    "array_100 = np.arange(1,101) \n",
    "#The .reshape() will reshape the array into a 10x10 array\n",
    "array= array_100.reshape(10,10) \n",
    "\n",
    "#the .square() function will square all the values inside the array\n",
    "x= np.square(array)\n",
    "#outputs the square of the numbers\n",
    "print(\"The square of the numbers 1-100 are : \\n\", x)\n",
    "\n",
    "#checks for the numbers in the array if they are divisible by 3\n",
    "divby3 = x[x%3 == 0]\n",
    "#outputs the numbers that are divisible by 3\n",
    "print(\"The numbers in the array that are divisble by 3 are :\\n\",divby3) \n",
    "\n",
    "#saves the result as div_by_3.npy\n",
    "np.save(\"div_by_3.npy\", divby3) \n",
    "\n"
   ]
  },
  {
   "cell_type": "code",
   "execution_count": null,
   "id": "bf68ee7f-d94d-44ac-b2d5-83797e1dc028",
   "metadata": {},
   "outputs": [],
   "source": []
  }
 ],
 "metadata": {
  "kernelspec": {
   "display_name": "Python 3 (ipykernel)",
   "language": "python",
   "name": "python3"
  },
  "language_info": {
   "codemirror_mode": {
    "name": "ipython",
    "version": 3
   },
   "file_extension": ".py",
   "mimetype": "text/x-python",
   "name": "python",
   "nbconvert_exporter": "python",
   "pygments_lexer": "ipython3",
   "version": "3.12.4"
  }
 },
 "nbformat": 4,
 "nbformat_minor": 5
}
